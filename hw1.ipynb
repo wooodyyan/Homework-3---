{
 "cells": [
  {
   "cell_type": "code",
   "execution_count": 56,
   "id": "920bd280",
   "metadata": {},
   "outputs": [
    {
     "name": "stdout",
     "output_type": "stream",
     "text": [
      "Please input a number between 0-255: 15\n",
      "Binary: [0, 0, 0, 0, 1, 1, 1, 1]\n",
      "Hex: [0, 'F']\n"
     ]
    }
   ],
   "source": [
    "# Comfirm input\n",
    "number = int(input(\"Please input a number between 0-255: \"))\n",
    "while number < 0 or number > 255:\n",
    "    number = int(input(\"Please input a number between 0-255: \"))\n",
    "\n",
    "bi_arr = []\n",
    "\n",
    "# Caculate binary\n",
    "while number > 0:\n",
    "    bi_arr.insert(0, number % 2)\n",
    "    number = number // 2\n",
    "\n",
    "# Pad to 8 bits\n",
    "while len(bi_arr) < 8:\n",
    "    bi_arr.insert(0, 0)\n",
    "\n",
    "print(\"Binary:\", bi_arr)\n",
    "\n",
    "# Convert binary to hex\n",
    "count_hex = 0\n",
    "sum_temp = 0\n",
    "hex_arr = []\n",
    "for i in range(-1, -len(bi_arr) - 1, -1):\n",
    "    if(count_hex < 4):\n",
    "        sum_temp = sum_temp + bi_arr[i] * (2 ** count_hex)\n",
    "        if(count_hex == 3):\n",
    "            hex_arr.insert(0, sum_temp)\n",
    "        count_hex = count_hex + 1\n",
    "    else:\n",
    "        count_hex = 0\n",
    "        sum_temp = 0\n",
    "        sum_temp = sum_temp + bi_arr[i] * (2 ** count_hex)\n",
    "        count_hex = count_hex + 1\n",
    "    \n",
    "hex_dic = {10:'A', 11:'B', 12:'C', 13:'D', 14:'E', 15:'F'}\n",
    "hex_arr = [hex_dic[n] if n in hex_dic else n for n in hex_arr]\n",
    "\n",
    "\n",
    "print(\"Hex:\", hex_arr)"
   ]
  }
 ],
 "metadata": {
  "kernelspec": {
   "display_name": "Python 3 (ipykernel)",
   "language": "python",
   "name": "python3"
  },
  "language_info": {
   "codemirror_mode": {
    "name": "ipython",
    "version": 3
   },
   "file_extension": ".py",
   "mimetype": "text/x-python",
   "name": "python",
   "nbconvert_exporter": "python",
   "pygments_lexer": "ipython3",
   "version": "3.9.12"
  }
 },
 "nbformat": 4,
 "nbformat_minor": 5
}
