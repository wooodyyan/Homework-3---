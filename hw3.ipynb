{
 "cells": [
  {
   "cell_type": "code",
   "execution_count": 2,
   "id": "693f8124",
   "metadata": {},
   "outputs": [
    {
     "name": "stdout",
     "output_type": "stream",
     "text": [
      "Initial array: [33, 67, 8, 13, 54, 119, 3, 84, 25, 41]\n",
      "Swapped 25 and 67, array now: [33, 25, 8, 13, 54, 119, 3, 84, 67, 41]\n",
      "Swapped 3 and 54, array now: [33, 25, 8, 13, 3, 119, 54, 84, 67, 41]\n",
      "Swapped pivot 3 with 33, array now: [3, 25, 8, 13, 33, 119, 54, 84, 67, 41]\n",
      "Sub-array: [3, 25, 8, 13, 33, 119, 54, 84, 67, 41], Pivot element: 33 at index 4\n",
      "Swapped pivot 3 with 3, array now: [3, 25, 8, 13, 33, 119, 54, 84, 67, 41]\n",
      "Sub-array: [3, 25, 8, 13], Pivot element: 3 at index 0\n",
      "Swapped pivot 13 with 25, array now: [3, 13, 8, 25, 33, 119, 54, 84, 67, 41]\n",
      "Sub-array: [13, 8, 25], Pivot element: 25 at index 3\n",
      "Swapped pivot 8 with 13, array now: [3, 8, 13, 25, 33, 119, 54, 84, 67, 41]\n",
      "Sub-array: [8, 13], Pivot element: 13 at index 2\n",
      "Swapped pivot 41 with 119, array now: [3, 8, 13, 25, 33, 41, 54, 84, 67, 119]\n",
      "Sub-array: [41, 54, 84, 67, 119], Pivot element: 119 at index 9\n",
      "Swapped pivot 41 with 41, array now: [3, 8, 13, 25, 33, 41, 54, 84, 67, 119]\n",
      "Sub-array: [41, 54, 84, 67], Pivot element: 41 at index 5\n",
      "Swapped pivot 54 with 54, array now: [3, 8, 13, 25, 33, 41, 54, 84, 67, 119]\n",
      "Sub-array: [54, 84, 67], Pivot element: 54 at index 6\n",
      "Swapped pivot 67 with 84, array now: [3, 8, 13, 25, 33, 41, 54, 67, 84, 119]\n",
      "Sub-array: [67, 84], Pivot element: 84 at index 8\n",
      "Sorted list: [3, 8, 13, 25, 33, 41, 54, 67, 84, 119]\n"
     ]
    }
   ],
   "source": [
    "def quick_sort(arr, start, end):\n",
    "    if start >= end:\n",
    "        return\n",
    "    \n",
    "    pivot_index = partition(arr, start, end)\n",
    "    \n",
    "    print(f\"Sub-array: {arr[start:end+1]}, Pivot element: {arr[pivot_index]} at index {pivot_index}\")\n",
    "    \n",
    "    quick_sort(arr, start, pivot_index - 1)\n",
    "    quick_sort(arr, pivot_index + 1, end)\n",
    "\n",
    "def partition(arr, start, end):\n",
    "    pivot = arr[start]\n",
    "    left = start + 1\n",
    "    right = end\n",
    "    \n",
    "    done = False\n",
    "    while not done:\n",
    "        while left <= right and arr[left] <= pivot:\n",
    "            left = left + 1\n",
    "        while arr[right] >= pivot and right >= left:\n",
    "            right = right - 1\n",
    "        if right < left:\n",
    "            done = True\n",
    "        else:\n",
    "            arr[left], arr[right] = arr[right], arr[left]\n",
    "            print(f\"Swapped {arr[left]} and {arr[right]}, array now: {arr}\")\n",
    "    \n",
    "    arr[start], arr[right] = arr[right], arr[start]\n",
    "    print(f\"Swapped pivot {arr[start]} with {arr[right]}, array now: {arr}\")\n",
    "    \n",
    "    return right\n",
    "\n",
    "# Example demo list\n",
    "demo_list = [33, 67, 8, 13, 54, 119, 3, 84, 25, 41]\n",
    "\n",
    "# Perform quick sort\n",
    "print(\"Initial array:\", demo_list)\n",
    "quick_sort(demo_list, 0, len(demo_list) - 1)\n",
    "\n",
    "print(\"Sorted list:\", demo_list)\n"
   ]
  },
  {
   "cell_type": "code",
   "execution_count": null,
   "id": "66f3d24b",
   "metadata": {},
   "outputs": [],
   "source": []
  }
 ],
 "metadata": {
  "kernelspec": {
   "display_name": "Python 3 (ipykernel)",
   "language": "python",
   "name": "python3"
  },
  "language_info": {
   "codemirror_mode": {
    "name": "ipython",
    "version": 3
   },
   "file_extension": ".py",
   "mimetype": "text/x-python",
   "name": "python",
   "nbconvert_exporter": "python",
   "pygments_lexer": "ipython3",
   "version": "3.9.12"
  }
 },
 "nbformat": 4,
 "nbformat_minor": 5
}
